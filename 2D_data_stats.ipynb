{
 "cells": [
  {
   "cell_type": "code",
   "execution_count": 2,
   "id": "a02cdf95",
   "metadata": {},
   "outputs": [
    {
     "name": "stdout",
     "output_type": "stream",
     "text": [
      "/home/group.kurse/cviwo007/cv-project-ss25\n"
     ]
    }
   ],
   "source": [
    "!pwd"
   ]
  },
  {
   "cell_type": "code",
   "execution_count": 3,
   "id": "350758b2",
   "metadata": {},
   "outputs": [],
   "source": [
    "import torch\n",
    "import monai\n",
    "from monai.utils import set_determinism\n",
    "from monai.networks.nets import UNETR\n",
    "from monai.losses import DiceFocalLoss\n",
    "\n",
    "from sklearn.model_selection import train_test_split\n",
    "\n",
    "from utils.data_load import get_data_list, get_2D_data, get_2D_datasets\n",
    "from utils.transforms import get_2D_transforms\n",
    "from utils.train_utils import train_kits19_model"
   ]
  },
  {
   "cell_type": "code",
   "execution_count": 4,
   "id": "2254b92e",
   "metadata": {},
   "outputs": [
    {
     "name": "stdout",
     "output_type": "stream",
     "text": [
      "🏆 Complete UNETR 2D Training with MONAI\n",
      "PyTorch: 2.6.0+cu124\n",
      "MONAI: 1.5.0\n",
      "Device: cuda\n"
     ]
    },
    {
     "ename": "TypeError",
     "evalue": "'module' object is not callable",
     "output_type": "error",
     "traceback": [
      "\u001b[0;31m---------------------------------------------------------------------------\u001b[0m",
      "\u001b[0;31mTypeError\u001b[0m                                 Traceback (most recent call last)",
      "Cell \u001b[0;32mIn[4], line 17\u001b[0m\n\u001b[1;32m     14\u001b[0m LR \u001b[38;5;241m=\u001b[39m \u001b[38;5;241m0.0001\u001b[39m\n\u001b[1;32m     16\u001b[0m \u001b[38;5;66;03m# load data\u001b[39;00m\n\u001b[0;32m---> 17\u001b[0m all_cases \u001b[38;5;241m=\u001b[39m \u001b[43mget_data_list\u001b[49m\u001b[43m(\u001b[49m\u001b[43mDATA_ROOT\u001b[49m\u001b[43m)\u001b[49m\n\u001b[1;32m     18\u001b[0m \u001b[38;5;28mprint\u001b[39m(\u001b[38;5;124mf\u001b[39m\u001b[38;5;124m\"\u001b[39m\u001b[38;5;124m   Found \u001b[39m\u001b[38;5;132;01m{\u001b[39;00m\u001b[38;5;28mlen\u001b[39m(all_cases)\u001b[38;5;132;01m}\u001b[39;00m\u001b[38;5;124m cases\u001b[39m\u001b[38;5;124m\"\u001b[39m, flush\u001b[38;5;241m=\u001b[39m\u001b[38;5;28;01mTrue\u001b[39;00m)\n\u001b[1;32m     20\u001b[0m \u001b[38;5;66;03m# Split data\u001b[39;00m\n",
      "File \u001b[0;32m~/cv-project-ss25/utils/data_load.py:18\u001b[0m, in \u001b[0;36mget_data_list\u001b[0;34m(data_root)\u001b[0m\n\u001b[1;32m     13\u001b[0m \u001b[38;5;28;01mdef\u001b[39;00m\u001b[38;5;250m \u001b[39m\u001b[38;5;21mget_data_list\u001b[39m(data_root):\n\u001b[1;32m     14\u001b[0m \u001b[38;5;250m    \u001b[39m\u001b[38;5;124;03m\"\"\"\u001b[39;00m\n\u001b[1;32m     15\u001b[0m \u001b[38;5;124;03m    Get list of all KiTS19 cases for training.\u001b[39;00m\n\u001b[1;32m     16\u001b[0m \u001b[38;5;124;03m    Expected structure: data_root/case_XXXXX/imaging.nii.gz, segmentation.nii.gz\u001b[39;00m\n\u001b[1;32m     17\u001b[0m \u001b[38;5;124;03m    \"\"\"\u001b[39;00m\n\u001b[0;32m---> 18\u001b[0m     case_folders \u001b[38;5;241m=\u001b[39m \u001b[43mglob\u001b[49m\u001b[43m(\u001b[49m\u001b[43mos\u001b[49m\u001b[38;5;241;43m.\u001b[39;49m\u001b[43mpath\u001b[49m\u001b[38;5;241;43m.\u001b[39;49m\u001b[43mjoin\u001b[49m\u001b[43m(\u001b[49m\u001b[43mdata_root\u001b[49m\u001b[43m,\u001b[49m\u001b[43m \u001b[49m\u001b[38;5;124;43m\"\u001b[39;49m\u001b[38;5;124;43mcase_*\u001b[39;49m\u001b[38;5;124;43m\"\u001b[39;49m\u001b[43m)\u001b[49m\u001b[43m)\u001b[49m\n\u001b[1;32m     19\u001b[0m     case_folders\u001b[38;5;241m.\u001b[39msort()\n\u001b[1;32m     21\u001b[0m     data_list \u001b[38;5;241m=\u001b[39m []\n",
      "\u001b[0;31mTypeError\u001b[0m: 'module' object is not callable"
     ]
    }
   ],
   "source": [
    "print(f\"🏆 Complete UNETR 2D Training with MONAI\", flush=True)\n",
    "print(f\"PyTorch: {torch.__version__}\", flush=True)\n",
    "print(f\"MONAI: {monai.__version__}\", flush=True)\n",
    "\n",
    "# Set reproducibility\n",
    "set_determinism(seed=42)\n",
    "device = torch.device(\"cuda\" if torch.cuda.is_available() else \"cpu\")\n",
    "print(f\"Device: {device}\", flush=True)\n",
    "\n",
    "DATA_ROOT = \"/scratch/cv-course2025/lschind5/kits19/data\"\n",
    "BATCH_SIZE = 8\n",
    "NUM_EPOCHS = 100\n",
    "NUM_WORKERS = 4\n",
    "LR = 0.0001\n",
    "\n",
    "# load data\n",
    "all_cases = get_data_list(DATA_ROOT)\n",
    "print(f\"   Found {len(all_cases)} cases\", flush=True)\n",
    "\n",
    "# Split data\n",
    "train_data, val_data = train_test_split(\n",
    "    all_cases, test_size=0.2, random_state=42\n",
    ")\n",
    "\n",
    "train_cases = [case[\"case_id\"] for case in train_data]\n",
    "val_cases = [case[\"case_id\"] for case in val_data]\n",
    "\n",
    "train_list, val_list = get_2D_data(train_cases, val_cases, DATA_ROOT)\n",
    "print(f\"   Training on {len(train_list)} cases, validating on {len(val_list)} cases\", flush=True)\n",
    "\n",
    "# Get transforms\n",
    "train_transforms, val_transforms = get_2D_transforms()\n",
    "\n",
    "# Get datasets and loaders\n",
    "_, _, train_dataset, val_dataset = get_2D_datasets(train_list, val_list, train_transforms, val_transforms, batch_size=BATCH_SIZE, num_workers=NUM_WORKERS)"
   ]
  },
  {
   "cell_type": "markdown",
   "id": "3a596abd",
   "metadata": {},
   "source": [
    "# Verfiy whether augmentation and upsampling fixed class-proportions"
   ]
  },
  {
   "cell_type": "code",
   "execution_count": null,
   "id": "50cb6776",
   "metadata": {},
   "outputs": [],
   "source": []
  }
 ],
 "metadata": {
  "kernelspec": {
   "display_name": "Python 3 (ipykernel)",
   "language": "python",
   "name": "python3"
  },
  "language_info": {
   "codemirror_mode": {
    "name": "ipython",
    "version": 3
   },
   "file_extension": ".py",
   "mimetype": "text/x-python",
   "name": "python",
   "nbconvert_exporter": "python",
   "pygments_lexer": "ipython3",
   "version": "3.9.23"
  }
 },
 "nbformat": 4,
 "nbformat_minor": 5
}
